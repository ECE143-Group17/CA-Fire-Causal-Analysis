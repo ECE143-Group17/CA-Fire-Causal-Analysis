{
 "cells": [
  {
   "cell_type": "code",
   "execution_count": 1,
   "metadata": {},
   "outputs": [],
   "source": [
    "import folium"
   ]
  },
  {
   "cell_type": "code",
   "execution_count": 2,
   "metadata": {},
   "outputs": [],
   "source": [
    "from folium.plugins import HeatMap"
   ]
  },
  {
   "cell_type": "code",
   "execution_count": 3,
   "metadata": {},
   "outputs": [],
   "source": [
    "import pandas as pd"
   ]
  },
  {
   "cell_type": "code",
   "execution_count": 5,
   "metadata": {},
   "outputs": [],
   "source": [
    "df = pd.read_excel('2016_Redbook_FINAL.xlsx',sheet_name='Table 13',skiprows=[0])"
   ]
  },
  {
   "cell_type": "code",
   "execution_count": 6,
   "metadata": {},
   "outputs": [],
   "source": [
    "df_2 = pd.read_excel('2016_Redbook_FINAL.xlsx',sheet_name='Table 14',skiprows=[0]) "
   ]
  },
  {
   "cell_type": "markdown",
   "metadata": {},
   "source": [
    "# Heatmap of number of fires"
   ]
  },
  {
   "cell_type": "code",
   "execution_count": 7,
   "metadata": {},
   "outputs": [],
   "source": [
    "import geopy"
   ]
  },
  {
   "cell_type": "code",
   "execution_count": 8,
   "metadata": {},
   "outputs": [],
   "source": [
    "from geopy.geocoders import Nominatim\n",
    "def geocodeN(address):\n",
    "    gps=Nominatim()\n",
    "    location=gps.geocode(address + ' California')\n",
    "    return location.longitude,location.latitude"
   ]
  },
  {
   "cell_type": "code",
   "execution_count": 9,
   "metadata": {},
   "outputs": [],
   "source": [
    "lst = []\n",
    "for i in df['COUNTY']:\n",
    "    lst.append(i)\n",
    "for i in df_2['COUNTY'][:25]:\n",
    "    lst.append(i)"
   ]
  },
  {
   "cell_type": "code",
   "execution_count": 10,
   "metadata": {},
   "outputs": [],
   "source": [
    "lst = [i.encode(\"ascii\") for i in lst]"
   ]
  },
  {
   "cell_type": "code",
   "execution_count": 11,
   "metadata": {},
   "outputs": [],
   "source": [
    "lst1 = {}\n",
    "for i in lst[:26]:\n",
    "    lst1[i] = geocodeN(i)"
   ]
  },
  {
   "cell_type": "code",
   "execution_count": 13,
   "metadata": {},
   "outputs": [],
   "source": [
    "for i in lst[26:]:\n",
    "    lst1[i] = geocodeN(i)"
   ]
  },
  {
   "cell_type": "code",
   "execution_count": 30,
   "metadata": {},
   "outputs": [],
   "source": [
    "t = []\n",
    "for i in lst:\n",
    "    t.append(lst1[i])\n",
    "lst2 = [[float(i[0]),float(i[1])] for i in t]    "
   ]
  },
  {
   "cell_type": "code",
   "execution_count": 32,
   "metadata": {},
   "outputs": [],
   "source": [
    "lat =[lst2[i][1] for i in range(len(lst2))]                       \n",
    "lon =[lst2[i][0] for i in range(len(lst2))]"
   ]
  },
  {
   "cell_type": "code",
   "execution_count": 33,
   "metadata": {},
   "outputs": [],
   "source": [
    "import numpy as np"
   ]
  },
  {
   "cell_type": "code",
   "execution_count": 34,
   "metadata": {},
   "outputs": [],
   "source": [
    "a = np.array(df['Total'])\n",
    "b = np.array(df_2['Total'][:25])\n",
    "v = np.hstack((a,b))"
   ]
  },
  {
   "cell_type": "code",
   "execution_count": 35,
   "metadata": {},
   "outputs": [],
   "source": [
    "data1 = [[lat[i],lon[i],v[i]] for i in range(len(v))]"
   ]
  },
  {
   "cell_type": "code",
   "execution_count": 36,
   "metadata": {},
   "outputs": [
    {
     "data": {
      "text/plain": [
       "<folium.plugins.heat_map.HeatMap at 0x107764b90>"
      ]
     },
     "execution_count": 36,
     "metadata": {},
     "output_type": "execute_result"
    }
   ],
   "source": [
    "map_osm = folium.Map(tiles='Stamen Terrain')    \n",
    "HeatMap(data1).add_to(map_osm)  \n"
   ]
  },
  {
   "cell_type": "code",
   "execution_count": 37,
   "metadata": {},
   "outputs": [],
   "source": [
    "file_path = r'Heatmap_16.html'\n",
    "map_osm.save(file_path) "
   ]
  },
  {
   "cell_type": "markdown",
   "metadata": {},
   "source": [
    "# Heatmap of acres burned of fires"
   ]
  },
  {
   "cell_type": "code",
   "execution_count": 38,
   "metadata": {},
   "outputs": [],
   "source": [
    "df_3 = pd.read_excel('2016_Redbook_FINAL.xlsx',sheet_name='Table 19',skiprows=[0])\n",
    "df_4 = pd.read_excel('2016_Redbook_FINAL.xlsx',sheet_name='Table 20',skiprows=[0])"
   ]
  },
  {
   "cell_type": "code",
   "execution_count": 39,
   "metadata": {},
   "outputs": [],
   "source": [
    "c = np.array(df_3['Total'])\n",
    "d = np.array(df_4['Total'][:25])\n",
    "u = np.hstack((c,d))"
   ]
  },
  {
   "cell_type": "code",
   "execution_count": 40,
   "metadata": {},
   "outputs": [],
   "source": [
    "data2 = [[lat[i],lon[i],u[i]] for i in range(len(u))]"
   ]
  },
  {
   "cell_type": "code",
   "execution_count": 41,
   "metadata": {},
   "outputs": [
    {
     "data": {
      "text/plain": [
       "<folium.plugins.heat_map.HeatMap at 0x107764e90>"
      ]
     },
     "execution_count": 41,
     "metadata": {},
     "output_type": "execute_result"
    }
   ],
   "source": [
    "map_2 = folium.Map(tiles='Stamen Terrain')    \n",
    "HeatMap(data2).add_to(map_2) "
   ]
  },
  {
   "cell_type": "code",
   "execution_count": 42,
   "metadata": {},
   "outputs": [],
   "source": [
    "map_2.save(r'Heatmap_16_2.html')"
   ]
  },
  {
   "cell_type": "markdown",
   "metadata": {},
   "source": [
    "# Heatmap 2009-2015"
   ]
  },
  {
   "cell_type": "code",
   "execution_count": 4,
   "metadata": {},
   "outputs": [],
   "source": [
    "i = 2009\n",
    "while i <2016:\n",
    "    fname = 'Data_%d.csv'%(i)\n",
    "    df = pd.read_csv(fname,names=['City','Lon','Lat','Total'])\n",
    "    data = [[df['Lat'][j],df['Lon'][j],df['Total'][j]] for j in range(len(df['Lat']))]\n",
    "    map_i = folium.Map(tiles='Stamen Terrain')    \n",
    "    HeatMap(data).add_to(map_i)\n",
    "    mapname = 'Heatmap_%d.html'%(i)\n",
    "    map_i.save(mapname)\n",
    "    i+=1"
   ]
  },
  {
   "cell_type": "code",
   "execution_count": null,
   "metadata": {},
   "outputs": [],
   "source": []
  }
 ],
 "metadata": {
  "kernelspec": {
   "display_name": "Python 2",
   "language": "python",
   "name": "python2"
  },
  "language_info": {
   "codemirror_mode": {
    "name": "ipython",
    "version": 2
   },
   "file_extension": ".py",
   "mimetype": "text/x-python",
   "name": "python",
   "nbconvert_exporter": "python",
   "pygments_lexer": "ipython2",
   "version": "2.7.14"
  }
 },
 "nbformat": 4,
 "nbformat_minor": 2
}
