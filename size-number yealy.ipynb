{
 "cells": [
  {
   "cell_type": "code",
   "execution_count": 37,
   "metadata": {},
   "outputs": [
    {
     "data": {
      "text/html": [
       "<div class=\"vega-embed\" id=\"568409de-d313-47cc-aa43-f7af9e2e28d5\"></div>\n",
       "\n",
       "<style>\n",
       ".vega-embed .vega-actions > a {\n",
       "    transition: opacity 200ms ease-in;\n",
       "    opacity: 0.3;\n",
       "    margin-right: 0.6em;\n",
       "    color: #444;\n",
       "    text-decoration: none;\n",
       "}\n",
       "\n",
       ".vega-embed .vega-actions > a:hover {\n",
       "    color: #000;\n",
       "    text-decoration: underline;\n",
       "}\n",
       "\n",
       ".vega-embed:hover .vega-actions > a {\n",
       "    opacity: 1;\n",
       "    transition: 0s;\n",
       "}\n",
       "\n",
       ".vega-embed .error p {\n",
       "    color: firebrick;\n",
       "    font-size: 1.2em;\n",
       "}\n",
       "</style>\n"
      ]
     },
     "metadata": {
      "jupyter-vega3": "#568409de-d313-47cc-aa43-f7af9e2e28d5"
     },
     "output_type": "display_data"
    },
    {
     "data": {
      "application/javascript": [
       "var spec = {\"data\": {\"url\": \"altair-data-bf2b5117-848c-4d6b-9f9c-307d6f812a99.json\", \"format\": {\"type\": \"json\"}}, \"$schema\": \"https://vega.github.io/schema/vega-lite/v2.4.1.json\", \"encoding\": {\"color\": {\"value\": \"steelblue\"}, \"y\": {\"field\": \"2015 number of fires\", \"type\": \"quantitative\"}, \"x\": {\"field\": \"Size\", \"type\": \"ordinal\"}}, \"config\": {\"view\": {\"width\": 400, \"height\": 300}}, \"mark\": \"bar\"};\n",
       "var opt = {};\n",
       "var selector = \"#568409de-d313-47cc-aa43-f7af9e2e28d5\";\n",
       "var type = \"vega-lite\";\n",
       "\n",
       "var output_area = this;\n",
       "\n",
       "require(['nbextensions/jupyter-vega3/index'], function(vega) {\n",
       "  vega.render(selector, spec, type, opt, output_area);\n",
       "}, function (err) {\n",
       "  if (err.requireType !== 'scripterror') {\n",
       "    throw(err);\n",
       "  }\n",
       "});\n"
      ]
     },
     "metadata": {
      "jupyter-vega3": "#568409de-d313-47cc-aa43-f7af9e2e28d5"
     },
     "output_type": "display_data"
    },
    {
     "data": {
      "text/plain": []
     },
     "execution_count": 37,
     "metadata": {},
     "output_type": "execute_result"
    },
    {
     "data": {
      "image/png": "[encoded data removed]"
     },
     "metadata": {
      "jupyter-vega3": "#568409de-d313-47cc-aa43-f7af9e2e28d5"
     },
     "output_type": "display_data"
    }
   ],
   "source": [
    "import altair as alt\n",
    "alt.data_transformers.enable('json')\n",
    "import pandas as pd\n",
    "alt.renderers.enable('notebook')\n",
    "\n",
    "data = pd.DataFrame({\"Size\": ['A1', 'B1', 'C1', 'D1', 'E1', 'F1', 'G1'],\n",
    "                     \"2015 number of fires\": [192,101,11,4,2,2,0]})\n",
    "\n",
    "bar1 = alt.Chart(data).mark_bar().encode(\n",
    "    x='Size:O',\n",
    "    y='2015 number of fires:Q',\n",
    "    color=alt.value('steelblue')\n",
    ")\n",
    "bar1"
   ]
  },
  {
   "cell_type": "code",
   "execution_count": 38,
   "metadata": {},
   "outputs": [
    {
     "data": {
      "text/html": [
       "<div class=\"vega-embed\" id=\"2c87a4ec-dbe9-4f9d-84be-23d9731ac977\"></div>\n",
       "\n",
       "<style>\n",
       ".vega-embed .vega-actions > a {\n",
       "    transition: opacity 200ms ease-in;\n",
       "    opacity: 0.3;\n",
       "    margin-right: 0.6em;\n",
       "    color: #444;\n",
       "    text-decoration: none;\n",
       "}\n",
       "\n",
       ".vega-embed .vega-actions > a:hover {\n",
       "    color: #000;\n",
       "    text-decoration: underline;\n",
       "}\n",
       "\n",
       ".vega-embed:hover .vega-actions > a {\n",
       "    opacity: 1;\n",
       "    transition: 0s;\n",
       "}\n",
       "\n",
       ".vega-embed .error p {\n",
       "    color: firebrick;\n",
       "    font-size: 1.2em;\n",
       "}\n",
       "</style>\n"
      ]
     },
     "metadata": {
      "jupyter-vega3": "#2c87a4ec-dbe9-4f9d-84be-23d9731ac977"
     },
     "output_type": "display_data"
    },
    {
     "data": {
      "application/javascript": [
       "var spec = {\"data\": {\"url\": \"altair-data-11ef3c73-9b3e-4b28-9156-aafa8fde1ffe.json\", \"format\": {\"type\": \"json\"}}, \"$schema\": \"https://vega.github.io/schema/vega-lite/v2.4.1.json\", \"encoding\": {\"color\": {\"value\": \"grey\"}, \"y\": {\"field\": \"2014 number of fires\", \"type\": \"quantitative\"}, \"x\": {\"field\": \"Size\", \"type\": \"ordinal\"}}, \"config\": {\"view\": {\"width\": 400, \"height\": 300}}, \"mark\": \"bar\"};\n",
       "var opt = {};\n",
       "var selector = \"#2c87a4ec-dbe9-4f9d-84be-23d9731ac977\";\n",
       "var type = \"vega-lite\";\n",
       "\n",
       "var output_area = this;\n",
       "\n",
       "require(['nbextensions/jupyter-vega3/index'], function(vega) {\n",
       "  vega.render(selector, spec, type, opt, output_area);\n",
       "}, function (err) {\n",
       "  if (err.requireType !== 'scripterror') {\n",
       "    throw(err);\n",
       "  }\n",
       "});\n"
      ]
     },
     "metadata": {
      "jupyter-vega3": "#2c87a4ec-dbe9-4f9d-84be-23d9731ac977"
     },
     "output_type": "display_data"
    },
    {
     "data": {
      "text/plain": []
     },
     "execution_count": 38,
     "metadata": {},
     "output_type": "execute_result"
    },
    {
     "data": {
      "image/png": "[encoded data removed]"
     },
     "metadata": {
      "jupyter-vega3": "#2c87a4ec-dbe9-4f9d-84be-23d9731ac977"
     },
     "output_type": "display_data"
    }
   ],
   "source": [
    "import altair as alt\n",
    "alt.data_transformers.enable('json')\n",
    "import pandas as pd\n",
    "alt.renderers.enable('notebook')\n",
    "\n",
    "data = pd.DataFrame({\"Size\": ['A2', 'B2', 'C2', 'D2', 'E2', 'F2', 'G2'],\n",
    "                     \"2014 number of fires\": [208,80,5,1,0,1,0]})\n",
    "\n",
    "bar2 = alt.Chart(data).mark_bar().encode(\n",
    "    x='Size:O',\n",
    "    y='2014 number of fires:Q',\n",
    "    color=alt.value('grey')\n",
    ")\n",
    "bar2"
   ]
  },
  {
   "cell_type": "code",
   "execution_count": 39,
   "metadata": {},
   "outputs": [
    {
     "data": {
      "text/html": [
       "<div class=\"vega-embed\" id=\"53613c55-4871-4cb5-9501-77c57a222eb8\"></div>\n",
       "\n",
       "<style>\n",
       ".vega-embed .vega-actions > a {\n",
       "    transition: opacity 200ms ease-in;\n",
       "    opacity: 0.3;\n",
       "    margin-right: 0.6em;\n",
       "    color: #444;\n",
       "    text-decoration: none;\n",
       "}\n",
       "\n",
       ".vega-embed .vega-actions > a:hover {\n",
       "    color: #000;\n",
       "    text-decoration: underline;\n",
       "}\n",
       "\n",
       ".vega-embed:hover .vega-actions > a {\n",
       "    opacity: 1;\n",
       "    transition: 0s;\n",
       "}\n",
       "\n",
       ".vega-embed .error p {\n",
       "    color: firebrick;\n",
       "    font-size: 1.2em;\n",
       "}\n",
       "</style>\n"
      ]
     },
     "metadata": {
      "jupyter-vega3": "#53613c55-4871-4cb5-9501-77c57a222eb8"
     },
     "output_type": "display_data"
    },
    {
     "data": {
      "application/javascript": [
       "var spec = {\"data\": {\"url\": \"altair-data-88a14bf2-3179-4ffb-b7c4-cb968b2b0b16.json\", \"format\": {\"type\": \"json\"}}, \"$schema\": \"https://vega.github.io/schema/vega-lite/v2.4.1.json\", \"encoding\": {\"color\": {\"value\": \"grey\"}, \"y\": {\"field\": \"2013 number of fires\", \"type\": \"quantitative\"}, \"x\": {\"field\": \"Size\", \"type\": \"ordinal\"}}, \"config\": {\"view\": {\"width\": 400, \"height\": 300}}, \"mark\": \"bar\"};\n",
       "var opt = {};\n",
       "var selector = \"#53613c55-4871-4cb5-9501-77c57a222eb8\";\n",
       "var type = \"vega-lite\";\n",
       "\n",
       "var output_area = this;\n",
       "\n",
       "require(['nbextensions/jupyter-vega3/index'], function(vega) {\n",
       "  vega.render(selector, spec, type, opt, output_area);\n",
       "}, function (err) {\n",
       "  if (err.requireType !== 'scripterror') {\n",
       "    throw(err);\n",
       "  }\n",
       "});\n"
      ]
     },
     "metadata": {
      "jupyter-vega3": "#53613c55-4871-4cb5-9501-77c57a222eb8"
     },
     "output_type": "display_data"
    },
    {
     "data": {
      "text/plain": []
     },
     "execution_count": 39,
     "metadata": {},
     "output_type": "execute_result"
    },
    {
     "data": {
      "image/png": "[encoded data removed]"
     },
     "metadata": {
      "jupyter-vega3": "#53613c55-4871-4cb5-9501-77c57a222eb8"
     },
     "output_type": "display_data"
    }
   ],
   "source": [
    "import altair as alt\n",
    "alt.data_transformers.enable('json')\n",
    "import pandas as pd\n",
    "alt.renderers.enable('notebook')\n",
    "\n",
    "data = pd.DataFrame({\"Size\": ['A3', 'B3', 'C3', 'D3', 'E3', 'F3', 'G3'],\n",
    "                     \"2013 number of fires\": [310,136,23,6,4,0,1]})\n",
    "\n",
    "bar3 = alt.Chart(data).mark_bar().encode(\n",
    "    x='Size:O',\n",
    "    y='2013 number of fires:Q',\n",
    "    color=alt.value('grey')\n",
    ")\n",
    "bar3"
   ]
  },
  {
   "cell_type": "code",
   "execution_count": 40,
   "metadata": {},
   "outputs": [
    {
     "data": {
      "text/html": [
       "<div class=\"vega-embed\" id=\"d0486b0e-eaa6-4b7d-b717-9de8adb47edf\"></div>\n",
       "\n",
       "<style>\n",
       ".vega-embed .vega-actions > a {\n",
       "    transition: opacity 200ms ease-in;\n",
       "    opacity: 0.3;\n",
       "    margin-right: 0.6em;\n",
       "    color: #444;\n",
       "    text-decoration: none;\n",
       "}\n",
       "\n",
       ".vega-embed .vega-actions > a:hover {\n",
       "    color: #000;\n",
       "    text-decoration: underline;\n",
       "}\n",
       "\n",
       ".vega-embed:hover .vega-actions > a {\n",
       "    opacity: 1;\n",
       "    transition: 0s;\n",
       "}\n",
       "\n",
       ".vega-embed .error p {\n",
       "    color: firebrick;\n",
       "    font-size: 1.2em;\n",
       "}\n",
       "</style>\n"
      ]
     },
     "metadata": {
      "jupyter-vega3": "#d0486b0e-eaa6-4b7d-b717-9de8adb47edf"
     },
     "output_type": "display_data"
    },
    {
     "data": {
      "application/javascript": [
       "var spec = {\"data\": {\"url\": \"altair-data-e9baa0d4-761c-4c12-b076-8076e7ccb3bf.json\", \"format\": {\"type\": \"json\"}}, \"$schema\": \"https://vega.github.io/schema/vega-lite/v2.4.1.json\", \"encoding\": {\"color\": {\"value\": \"grey\"}, \"y\": {\"field\": \"2012 number of fires\", \"type\": \"quantitative\"}, \"x\": {\"field\": \"Size\", \"type\": \"ordinal\"}}, \"config\": {\"view\": {\"width\": 400, \"height\": 300}}, \"mark\": \"bar\"};\n",
       "var opt = {};\n",
       "var selector = \"#d0486b0e-eaa6-4b7d-b717-9de8adb47edf\";\n",
       "var type = \"vega-lite\";\n",
       "\n",
       "var output_area = this;\n",
       "\n",
       "require(['nbextensions/jupyter-vega3/index'], function(vega) {\n",
       "  vega.render(selector, spec, type, opt, output_area);\n",
       "}, function (err) {\n",
       "  if (err.requireType !== 'scripterror') {\n",
       "    throw(err);\n",
       "  }\n",
       "});\n"
      ]
     },
     "metadata": {
      "jupyter-vega3": "#d0486b0e-eaa6-4b7d-b717-9de8adb47edf"
     },
     "output_type": "display_data"
    },
    {
     "data": {
      "text/plain": []
     },
     "execution_count": 40,
     "metadata": {},
     "output_type": "execute_result"
    },
    {
     "data": {
      "image/png": "[encoded data removed]"
     },
     "metadata": {
      "jupyter-vega3": "#d0486b0e-eaa6-4b7d-b717-9de8adb47edf"
     },
     "output_type": "display_data"
    }
   ],
   "source": [
    "import altair as alt\n",
    "alt.data_transformers.enable('json')\n",
    "import pandas as pd\n",
    "alt.renderers.enable('notebook')\n",
    "\n",
    "data = pd.DataFrame({\"Size\": ['A4', 'B4', 'C4', 'D4', 'E4', 'F4', 'G4'],\n",
    "                     \"2012 number of fires\": [308,139,37,10,3,1,0]})\n",
    "\n",
    "bar4 = alt.Chart(data).mark_bar().encode(\n",
    "    x='Size:O',\n",
    "    y='2012 number of fires:Q',\n",
    "    color=alt.value('grey')\n",
    ")\n",
    "bar4"
   ]
  },
  {
   "cell_type": "code",
   "execution_count": 41,
   "metadata": {},
   "outputs": [
    {
     "data": {
      "text/html": [
       "<div class=\"vega-embed\" id=\"857a1d63-3d5b-479c-814e-1e121dca93fc\"></div>\n",
       "\n",
       "<style>\n",
       ".vega-embed .vega-actions > a {\n",
       "    transition: opacity 200ms ease-in;\n",
       "    opacity: 0.3;\n",
       "    margin-right: 0.6em;\n",
       "    color: #444;\n",
       "    text-decoration: none;\n",
       "}\n",
       "\n",
       ".vega-embed .vega-actions > a:hover {\n",
       "    color: #000;\n",
       "    text-decoration: underline;\n",
       "}\n",
       "\n",
       ".vega-embed:hover .vega-actions > a {\n",
       "    opacity: 1;\n",
       "    transition: 0s;\n",
       "}\n",
       "\n",
       ".vega-embed .error p {\n",
       "    color: firebrick;\n",
       "    font-size: 1.2em;\n",
       "}\n",
       "</style>\n"
      ]
     },
     "metadata": {
      "jupyter-vega3": "#857a1d63-3d5b-479c-814e-1e121dca93fc"
     },
     "output_type": "display_data"
    },
    {
     "data": {
      "application/javascript": [
       "var spec = {\"data\": {\"url\": \"altair-data-0a5c3535-fe3d-4add-9662-3b2565751b09.json\", \"format\": {\"type\": \"json\"}}, \"$schema\": \"https://vega.github.io/schema/vega-lite/v2.4.1.json\", \"encoding\": {\"color\": {\"value\": \"grey\"}, \"y\": {\"field\": \"2011 number of fires\", \"type\": \"quantitative\"}, \"x\": {\"field\": \"Size\", \"type\": \"ordinal\"}}, \"config\": {\"view\": {\"width\": 400, \"height\": 300}}, \"mark\": \"bar\"};\n",
       "var opt = {};\n",
       "var selector = \"#857a1d63-3d5b-479c-814e-1e121dca93fc\";\n",
       "var type = \"vega-lite\";\n",
       "\n",
       "var output_area = this;\n",
       "\n",
       "require(['nbextensions/jupyter-vega3/index'], function(vega) {\n",
       "  vega.render(selector, spec, type, opt, output_area);\n",
       "}, function (err) {\n",
       "  if (err.requireType !== 'scripterror') {\n",
       "    throw(err);\n",
       "  }\n",
       "});\n"
      ]
     },
     "metadata": {
      "jupyter-vega3": "#857a1d63-3d5b-479c-814e-1e121dca93fc"
     },
     "output_type": "display_data"
    },
    {
     "data": {
      "text/plain": []
     },
     "execution_count": 41,
     "metadata": {},
     "output_type": "execute_result"
    },
    {
     "data": {
      "image/png": "[encoded data removed]"
     },
     "metadata": {
      "jupyter-vega3": "#857a1d63-3d5b-479c-814e-1e121dca93fc"
     },
     "output_type": "display_data"
    }
   ],
   "source": [
    "import altair as alt\n",
    "alt.data_transformers.enable('json')\n",
    "import pandas as pd\n",
    "alt.renderers.enable('notebook')\n",
    "\n",
    "data = pd.DataFrame({\"Size\": ['A5', 'B5', 'C5', 'D5', 'E5', 'F5', 'G5'],\n",
    "                     \"2011 number of fires\": [363,95,23,6,2,6,4]})\n",
    "\n",
    "bar5 = alt.Chart(data).mark_bar().encode(\n",
    "    x='Size:O',\n",
    "    y='2011 number of fires:Q',\n",
    "    color=alt.value('grey')\n",
    ")\n",
    "bar5"
   ]
  },
  {
   "cell_type": "code",
   "execution_count": 42,
   "metadata": {},
   "outputs": [
    {
     "data": {
      "text/html": [
       "<div class=\"vega-embed\" id=\"9b887b57-b04c-41f0-a07b-24dbfce3ba81\"></div>\n",
       "\n",
       "<style>\n",
       ".vega-embed .vega-actions > a {\n",
       "    transition: opacity 200ms ease-in;\n",
       "    opacity: 0.3;\n",
       "    margin-right: 0.6em;\n",
       "    color: #444;\n",
       "    text-decoration: none;\n",
       "}\n",
       "\n",
       ".vega-embed .vega-actions > a:hover {\n",
       "    color: #000;\n",
       "    text-decoration: underline;\n",
       "}\n",
       "\n",
       ".vega-embed:hover .vega-actions > a {\n",
       "    opacity: 1;\n",
       "    transition: 0s;\n",
       "}\n",
       "\n",
       ".vega-embed .error p {\n",
       "    color: firebrick;\n",
       "    font-size: 1.2em;\n",
       "}\n",
       "</style>\n"
      ]
     },
     "metadata": {
      "jupyter-vega3": "#9b887b57-b04c-41f0-a07b-24dbfce3ba81"
     },
     "output_type": "display_data"
    },
    {
     "data": {
      "application/javascript": [
       "var spec = {\"data\": {\"url\": \"altair-data-5ddebd52-611c-4c90-8cef-c612ca5673e2.json\", \"format\": {\"type\": \"json\"}}, \"$schema\": \"https://vega.github.io/schema/vega-lite/v2.4.1.json\", \"encoding\": {\"color\": {\"value\": \"goldenrod\"}, \"y\": {\"field\": \"2008 number of fires\", \"type\": \"quantitative\"}, \"x\": {\"field\": \"Size\", \"type\": \"ordinal\"}}, \"config\": {\"view\": {\"width\": 400, \"height\": 300}}, \"mark\": \"bar\"};\n",
       "var opt = {};\n",
       "var selector = \"#9b887b57-b04c-41f0-a07b-24dbfce3ba81\";\n",
       "var type = \"vega-lite\";\n",
       "\n",
       "var output_area = this;\n",
       "\n",
       "require(['nbextensions/jupyter-vega3/index'], function(vega) {\n",
       "  vega.render(selector, spec, type, opt, output_area);\n",
       "}, function (err) {\n",
       "  if (err.requireType !== 'scripterror') {\n",
       "    throw(err);\n",
       "  }\n",
       "});\n"
      ]
     },
     "metadata": {
      "jupyter-vega3": "#9b887b57-b04c-41f0-a07b-24dbfce3ba81"
     },
     "output_type": "display_data"
    },
    {
     "data": {
      "text/plain": []
     },
     "execution_count": 42,
     "metadata": {},
     "output_type": "execute_result"
    },
    {
     "data": {
      "image/png": "[encoded data removed]"
     },
     "metadata": {
      "jupyter-vega3": "#9b887b57-b04c-41f0-a07b-24dbfce3ba81"
     },
     "output_type": "display_data"
    }
   ],
   "source": [
    "import altair as alt\n",
    "alt.data_transformers.enable('json')\n",
    "import pandas as pd\n",
    "alt.renderers.enable('notebook')\n",
    "\n",
    "data = pd.DataFrame({\"Size\": ['A6', 'B6', 'C6', 'D6', 'E6', 'F6', 'G6'],\n",
    "                     \"2008 number of fires\": [3593,1272,1959,47,34,41,12]})\n",
    "\n",
    "bar6 = alt.Chart(data).mark_bar().encode(\n",
    "    x='Size:O',\n",
    "    y='2008 number of fires:Q',\n",
    "    color=alt.value('goldenrod')\n",
    ")\n",
    "bar6"
   ]
  },
  {
   "cell_type": "code",
   "execution_count": 43,
   "metadata": {},
   "outputs": [
    {
     "data": {
      "text/html": [
       "<div class=\"vega-embed\" id=\"12638f25-70eb-4ac9-883b-59edad362c53\"></div>\n",
       "\n",
       "<style>\n",
       ".vega-embed .vega-actions > a {\n",
       "    transition: opacity 200ms ease-in;\n",
       "    opacity: 0.3;\n",
       "    margin-right: 0.6em;\n",
       "    color: #444;\n",
       "    text-decoration: none;\n",
       "}\n",
       "\n",
       ".vega-embed .vega-actions > a:hover {\n",
       "    color: #000;\n",
       "    text-decoration: underline;\n",
       "}\n",
       "\n",
       ".vega-embed:hover .vega-actions > a {\n",
       "    opacity: 1;\n",
       "    transition: 0s;\n",
       "}\n",
       "\n",
       ".vega-embed .error p {\n",
       "    color: firebrick;\n",
       "    font-size: 1.2em;\n",
       "}\n",
       "</style>\n"
      ]
     },
     "metadata": {
      "jupyter-vega3": "#12638f25-70eb-4ac9-883b-59edad362c53"
     },
     "output_type": "display_data"
    },
    {
     "data": {
      "application/javascript": [
       "var spec = {\"layer\": [{\"mark\": \"bar\", \"data\": {\"url\": \"altair-data-d06f3332-a7e7-4305-babd-91b14f1cbbd0.json\", \"format\": {\"type\": \"json\"}}, \"encoding\": {\"color\": {\"value\": \"steelblue\"}, \"y\": {\"field\": \"2015 number of fires\", \"type\": \"quantitative\"}, \"x\": {\"field\": \"Size\", \"type\": \"ordinal\"}}}, {\"mark\": \"bar\", \"data\": {\"url\": \"altair-data-0916a30f-9e02-4144-afe6-70315f60c9a2.json\", \"format\": {\"type\": \"json\"}}, \"encoding\": {\"color\": {\"value\": \"grey\"}, \"y\": {\"field\": \"2014 number of fires\", \"type\": \"quantitative\"}, \"x\": {\"field\": \"Size\", \"type\": \"ordinal\"}}}, {\"mark\": \"bar\", \"data\": {\"url\": \"altair-data-e3f06b32-f426-4e95-8e9d-5e92cf1461e5.json\", \"format\": {\"type\": \"json\"}}, \"encoding\": {\"color\": {\"value\": \"grey\"}, \"y\": {\"field\": \"2013 number of fires\", \"type\": \"quantitative\"}, \"x\": {\"field\": \"Size\", \"type\": \"ordinal\"}}}, {\"mark\": \"bar\", \"data\": {\"url\": \"altair-data-7e298018-c4e3-423d-9a00-77edc385e3e4.json\", \"format\": {\"type\": \"json\"}}, \"encoding\": {\"color\": {\"value\": \"grey\"}, \"y\": {\"field\": \"2012 number of fires\", \"type\": \"quantitative\"}, \"x\": {\"field\": \"Size\", \"type\": \"ordinal\"}}}, {\"mark\": \"bar\", \"data\": {\"url\": \"altair-data-bf7e3191-e46c-42c4-bb4e-3b56e312de8a.json\", \"format\": {\"type\": \"json\"}}, \"encoding\": {\"color\": {\"value\": \"grey\"}, \"y\": {\"field\": \"2011 number of fires\", \"type\": \"quantitative\"}, \"x\": {\"field\": \"Size\", \"type\": \"ordinal\"}}}, {\"mark\": \"bar\", \"data\": {\"url\": \"altair-data-8b306ec6-a875-44d8-a555-16fb1046b71e.json\", \"format\": {\"type\": \"json\"}}, \"encoding\": {\"color\": {\"value\": \"goldenrod\"}, \"y\": {\"field\": \"2008 number of fires\", \"type\": \"quantitative\"}, \"x\": {\"field\": \"Size\", \"type\": \"ordinal\"}}}], \"config\": {\"view\": {\"width\": 400, \"height\": 300}}, \"$schema\": \"https://vega.github.io/schema/vega-lite/v2.4.1.json\"};\n",
       "var opt = {};\n",
       "var selector = \"#12638f25-70eb-4ac9-883b-59edad362c53\";\n",
       "var type = \"vega-lite\";\n",
       "\n",
       "var output_area = this;\n",
       "\n",
       "require(['nbextensions/jupyter-vega3/index'], function(vega) {\n",
       "  vega.render(selector, spec, type, opt, output_area);\n",
       "}, function (err) {\n",
       "  if (err.requireType !== 'scripterror') {\n",
       "    throw(err);\n",
       "  }\n",
       "});\n"
      ]
     },
     "metadata": {
      "jupyter-vega3": "#12638f25-70eb-4ac9-883b-59edad362c53"
     },
     "output_type": "display_data"
    },
    {
     "data": {
      "text/plain": []
     },
     "execution_count": 43,
     "metadata": {},
     "output_type": "execute_result"
    },
    {
     "data": {
      "image/png": "[encoded data removed]"
     },
     "metadata": {
      "jupyter-vega3": "#12638f25-70eb-4ac9-883b-59edad362c53"
     },
     "output_type": "display_data"
    }
   ],
   "source": [
    "bar1+bar2+bar3+bar4+bar5+bar6"
   ]
  },
  {
   "cell_type": "code",
   "execution_count": null,
   "metadata": {
    "collapsed": true
   },
   "outputs": [],
   "source": []
  }
 ],
 "metadata": {
  "kernelspec": {
   "display_name": "Python 2",
   "language": "python",
   "name": "python2"
  },
  "language_info": {
   "codemirror_mode": {
    "name": "ipython",
    "version": 2
   },
   "file_extension": ".py",
   "mimetype": "text/x-python",
   "name": "python",
   "nbconvert_exporter": "python",
   "pygments_lexer": "ipython2",
   "version": "2.7.14"
  }
 },
 "nbformat": 4,
 "nbformat_minor": 2
}
